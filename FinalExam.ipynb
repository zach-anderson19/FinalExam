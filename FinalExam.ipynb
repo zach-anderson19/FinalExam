{
  "nbformat": 4,
  "nbformat_minor": 0,
  "metadata": {
    "colab": {
      "provenance": [],
      "authorship_tag": "ABX9TyNGia1nLX0+pnzEY/REXnfn",
      "include_colab_link": true
    },
    "kernelspec": {
      "name": "python3",
      "display_name": "Python 3"
    },
    "language_info": {
      "name": "python"
    }
  },
  "cells": [
    {
      "cell_type": "markdown",
      "metadata": {
        "id": "view-in-github",
        "colab_type": "text"
      },
      "source": [
        "<a href=\"https://colab.research.google.com/github/zach-anderson19/FinalExam/blob/main/FinalExam.ipynb\" target=\"_parent\"><img src=\"https://colab.research.google.com/assets/colab-badge.svg\" alt=\"Open In Colab\"/></a>"
      ]
    },
    {
      "cell_type": "code",
      "source": [
        "#Zachary Anderson(PBN887)\n",
        "#Problem 1\n",
        "\n",
        "def laceStrings(s1,s2):\n",
        "\n",
        "  #variables to store lengths of s1 and s2 in i an j respectively\n",
        "  i = len(s1)\n",
        "  j = len(s2)\n",
        "\n",
        "  #empty string variable to eventually store new laced string\n",
        "  lacedStr = ''\n",
        "\n",
        "  #while loop to iterate through lengths of s1 and s2\n",
        "  while i != 0 or j != 0:\n",
        "    #if statement testing value of i\n",
        "    if i == 0:\n",
        "      lacedStr += s2[len(s2) - j:]\n",
        "      j = 0\n",
        "    #statement testing value of j\n",
        "    elif j == 0:\n",
        "      lacedStr += s1[len(s1) - i:]\n",
        "      i = 0\n",
        "    #else statement if both strings still have characters\n",
        "    else:\n",
        "      lacedStr += s1[len(s1) - i] + s2[len(s2) - j]\n",
        "      #decrementing by 1 to move to next character\n",
        "      i -= 1\n",
        "      j -= 1\n",
        "\n",
        "  #return new interwoven string\n",
        "  return lacedStr\n"
      ],
      "metadata": {
        "id": "f0p4E6X_LB6l"
      },
      "execution_count": 15,
      "outputs": []
    },
    {
      "cell_type": "code",
      "execution_count": 35,
      "metadata": {
        "colab": {
          "base_uri": "https://localhost:8080/"
        },
        "id": "t0_Tagx1FZ6_",
        "outputId": "6aecbf67-3d52-4164-ef60-65ff1953f5fc"
      },
      "outputs": [
        {
          "output_type": "stream",
          "name": "stdout",
          "text": [
            "aebfcgdhi\n",
            "eafbgchdi\n"
          ]
        }
      ],
      "source": [
        "# Tester Code\n",
        "print(laceStrings('abcd', 'efghi'))\n",
        "print(laceStrings('efghi', 'abcd'))"
      ]
    },
    {
      "cell_type": "code",
      "source": [
        "#Zachary Anderson (PBN887)\n",
        "#Problem 2\n",
        "\n",
        "def primes_list(N):\n",
        "    '''\n",
        "    N: an integer\n",
        "    Returns a list of prime numbers\n",
        "    '''\n",
        "\n",
        "    #initializing list of prime numbers starting with 2\n",
        "    primeList = [2]\n",
        "\n",
        "    #for loop to iterate through numbers\n",
        "    for i in range(3, N+1):\n",
        "      prime = False\n",
        "\n",
        "      #for loop to check for divisibility using modulus to determine primality\n",
        "      for j in range(len(primeList)):\n",
        "        #if statement using modulus to check primality\n",
        "        if i % primeList[j] == 0:\n",
        "          prime = False\n",
        "          break\n",
        "        else:\n",
        "          prime = True\n",
        "\n",
        "      #if number is prime, append it to list\n",
        "      if prime:\n",
        "        primeList.append(i)\n",
        "\n",
        "    #return list of prime numbers in range of N\n",
        "    return primeList\n",
        "\n"
      ],
      "metadata": {
        "id": "6goJ3ZcZJ6zh"
      },
      "execution_count": 18,
      "outputs": []
    },
    {
      "cell_type": "code",
      "source": [
        "#Problem 2 Tester Code\n",
        "print(primes_list(15))"
      ],
      "metadata": {
        "colab": {
          "base_uri": "https://localhost:8080/"
        },
        "id": "8tNVK818LhoA",
        "outputId": "14db446b-bc01-4693-a86d-38771da7c7d2"
      },
      "execution_count": 34,
      "outputs": [
        {
          "output_type": "stream",
          "name": "stdout",
          "text": [
            "[2, 3, 5, 7, 11, 13]\n"
          ]
        }
      ]
    },
    {
      "cell_type": "code",
      "source": [
        "#Zachary Anderson (PBN887)\n",
        "#Problem 3\n",
        "\n",
        "def uniqueValues(aDict):\n",
        "    '''\n",
        "    aDict: a dictionary\n",
        "    returns: a sorted list of keys that map to unique aDict values, empty\n",
        "    list if none\n",
        "    '''\n",
        "\n",
        "    #variable storing an empty list that will hold keys to values\n",
        "    uniqueKeys = []\n",
        "\n",
        "    #variable that contains list of all values in the dictionary\n",
        "    values = [i for i in aDict.values()]\n",
        "\n",
        "    #for loop to iterate through all keys in dictionary\n",
        "    for i in aDict.keys():\n",
        "      #if value of key is unique,\n",
        "      if values.count(aDict[i]) == 1:\n",
        "        #append to list\n",
        "        uniqueKeys.append(i)\n",
        "\n",
        "    #return list of final values\n",
        "    return sorted(uniqueKeys)\n"
      ],
      "metadata": {
        "id": "xH4kzEnVNIF8"
      },
      "execution_count": 20,
      "outputs": []
    },
    {
      "cell_type": "code",
      "source": [
        "aDict = {1: 1, 3: 2, 6: 0, 7: 0, 8: 4, 10: 0}\n",
        "\n",
        "#aDict = {1: 1, 2: 1, 3: 2, 4: 2}\n",
        "\n",
        "print(uniqueValues(aDict))"
      ],
      "metadata": {
        "colab": {
          "base_uri": "https://localhost:8080/"
        },
        "id": "oOuR32N3NxEp",
        "outputId": "bb5c839f-f856-4ee5-fb2b-41bcffb5243a"
      },
      "execution_count": 33,
      "outputs": [
        {
          "output_type": "stream",
          "name": "stdout",
          "text": [
            "[1, 3, 8]\n"
          ]
        }
      ]
    },
    {
      "cell_type": "code",
      "source": [
        "#Zachary Anderson (PBN887)\n",
        "#Problem 4\n",
        "\n",
        "## DO NOT MODIFY THE IMPLEMENTATION OF THE Person CLASS ##\n",
        "class Person(object):\n",
        "    def __init__(self, name):\n",
        "        #create a person with name name\n",
        "        self.name = name\n",
        "        try:\n",
        "            firstBlank = name.rindex(' ')\n",
        "            self.lastName = name[firstBlank+1:]\n",
        "        except:\n",
        "            self.lastName = name\n",
        "        self.age = None\n",
        "    def getLastName(self):\n",
        "        #return self's last name\n",
        "        return self.lastName\n",
        "    def setAge(self, age):\n",
        "        #assumes age is an int greater than 0\n",
        "        #sets self's age to age (in years)\n",
        "        self.age = age\n",
        "    def getAge(self):\n",
        "        #assumes that self's age has been set\n",
        "        #returns self's current age in years\n",
        "        if self.age == None:\n",
        "            raise ValueError\n",
        "        return self.age\n",
        "    def __lt__(self, other):\n",
        "        #return True if self's name is lexicographically less\n",
        "        #than other's name, and False otherwise\n",
        "        if self.lastName == other.lastName:\n",
        "            return self.name < other.name\n",
        "        return self.lastName < other.lastName\n",
        "    def __str__(self):\n",
        "        #return self's name\n",
        "        return self.name\n",
        "\n",
        "class USResident(Person):\n",
        "    \"\"\"\n",
        "    A Person who resides in the US.\n",
        "    \"\"\"\n",
        "    def __init__(self, name, status):\n",
        "        \"\"\"\n",
        "        Initializes a Person object. A USResident object inherits\n",
        "        from Person and has one additional attribute:\n",
        "        status: a string, one of \"citizen\", \"legal_resident\", \"illegal_resident\"\n",
        "        Raises a ValueError if status is not one of those 3 strings\n",
        "        \"\"\"\n",
        "\n",
        "        #variable pertaining to name of resident\n",
        "        self.name = name\n",
        "\n",
        "        #variable containing predefined list\n",
        "        statusList = [\"citizen\", \"legal_resident\", \"illegal_resident\"]\n",
        "\n",
        "        #checking contents and comparing to values in predefined list\n",
        "        if status not in statusList:\n",
        "          #raises error\n",
        "          raise ValueError\n",
        "\n",
        "        #no issues found\n",
        "        else:\n",
        "          self.status = status\n",
        "\n",
        "\n",
        "    def getStatus(self):\n",
        "        \"\"\"\n",
        "        Returns the status\n",
        "        \"\"\"\n",
        "        #return value of status\n",
        "        return self.status\n",
        ""
      ],
      "metadata": {
        "id": "kiGQ_jROPQKU"
      },
      "execution_count": 24,
      "outputs": []
    },
    {
      "cell_type": "code",
      "source": [
        "#Tester Code for Problem 4\n",
        "\n",
        "a = USResident('Tim Beaver', 'citizen')\n",
        "print(a.getStatus())\n",
        "b = USResident('Tim Horton', 'non-resident')\n",
        "print(b.getStatus())"
      ],
      "metadata": {
        "colab": {
          "base_uri": "https://localhost:8080/",
          "height": 341
        },
        "id": "wQ6xGDazPfDL",
        "outputId": "6cf9d2a1-8e9f-4e3d-ee24-83fa7c8e3643"
      },
      "execution_count": 32,
      "outputs": [
        {
          "output_type": "stream",
          "name": "stdout",
          "text": [
            "citizen\n"
          ]
        },
        {
          "output_type": "error",
          "ename": "ValueError",
          "evalue": "",
          "traceback": [
            "\u001b[0;31m---------------------------------------------------------------------------\u001b[0m",
            "\u001b[0;31mValueError\u001b[0m                                Traceback (most recent call last)",
            "\u001b[0;32m<ipython-input-32-ca0952985fd9>\u001b[0m in \u001b[0;36m<cell line: 5>\u001b[0;34m()\u001b[0m\n\u001b[1;32m      3\u001b[0m \u001b[0ma\u001b[0m \u001b[0;34m=\u001b[0m \u001b[0mUSResident\u001b[0m\u001b[0;34m(\u001b[0m\u001b[0;34m'Tim Beaver'\u001b[0m\u001b[0;34m,\u001b[0m \u001b[0;34m'citizen'\u001b[0m\u001b[0;34m)\u001b[0m\u001b[0;34m\u001b[0m\u001b[0;34m\u001b[0m\u001b[0m\n\u001b[1;32m      4\u001b[0m \u001b[0mprint\u001b[0m\u001b[0;34m(\u001b[0m\u001b[0ma\u001b[0m\u001b[0;34m.\u001b[0m\u001b[0mgetStatus\u001b[0m\u001b[0;34m(\u001b[0m\u001b[0;34m)\u001b[0m\u001b[0;34m)\u001b[0m\u001b[0;34m\u001b[0m\u001b[0;34m\u001b[0m\u001b[0m\n\u001b[0;32m----> 5\u001b[0;31m \u001b[0mb\u001b[0m \u001b[0;34m=\u001b[0m \u001b[0mUSResident\u001b[0m\u001b[0;34m(\u001b[0m\u001b[0;34m'Tim Horton'\u001b[0m\u001b[0;34m,\u001b[0m \u001b[0;34m'non-resident'\u001b[0m\u001b[0;34m)\u001b[0m\u001b[0;34m\u001b[0m\u001b[0;34m\u001b[0m\u001b[0m\n\u001b[0m\u001b[1;32m      6\u001b[0m \u001b[0mprint\u001b[0m\u001b[0;34m(\u001b[0m\u001b[0mb\u001b[0m\u001b[0;34m.\u001b[0m\u001b[0mgetStatus\u001b[0m\u001b[0;34m(\u001b[0m\u001b[0;34m)\u001b[0m\u001b[0;34m)\u001b[0m\u001b[0;34m\u001b[0m\u001b[0;34m\u001b[0m\u001b[0m\n",
            "\u001b[0;32m<ipython-input-24-cab2310d4097>\u001b[0m in \u001b[0;36m__init__\u001b[0;34m(self, name, status)\u001b[0m\n\u001b[1;32m     52\u001b[0m         \u001b[0mstatusList\u001b[0m \u001b[0;34m=\u001b[0m \u001b[0;34m[\u001b[0m\u001b[0;34m\"citizen\"\u001b[0m\u001b[0;34m,\u001b[0m \u001b[0;34m\"legal_resident\"\u001b[0m\u001b[0;34m,\u001b[0m \u001b[0;34m\"illegal_resident\"\u001b[0m\u001b[0;34m]\u001b[0m\u001b[0;34m\u001b[0m\u001b[0;34m\u001b[0m\u001b[0m\n\u001b[1;32m     53\u001b[0m         \u001b[0;32mif\u001b[0m \u001b[0mstatus\u001b[0m \u001b[0;32mnot\u001b[0m \u001b[0;32min\u001b[0m \u001b[0mstatusList\u001b[0m\u001b[0;34m:\u001b[0m\u001b[0;34m\u001b[0m\u001b[0;34m\u001b[0m\u001b[0m\n\u001b[0;32m---> 54\u001b[0;31m           \u001b[0;32mraise\u001b[0m \u001b[0mValueError\u001b[0m\u001b[0;34m\u001b[0m\u001b[0;34m\u001b[0m\u001b[0m\n\u001b[0m\u001b[1;32m     55\u001b[0m \u001b[0;34m\u001b[0m\u001b[0m\n\u001b[1;32m     56\u001b[0m         \u001b[0;32melse\u001b[0m\u001b[0;34m:\u001b[0m\u001b[0;34m\u001b[0m\u001b[0;34m\u001b[0m\u001b[0m\n",
            "\u001b[0;31mValueError\u001b[0m: "
          ]
        }
      ]
    },
    {
      "cell_type": "code",
      "source": [
        "#Zachary Anderson (PBN887)\n",
        "#Problem 5\n",
        "\n",
        "class Container(object):\n",
        "    \"\"\" Holds hashable objects. Objects may occur 0 or more times \"\"\"\n",
        "    def __init__(self):\n",
        "        \"\"\" Creates a new container with no objects in it. I.e., any object\n",
        "        occurs 0 times in self. \"\"\"\n",
        "        self.vals = {}\n",
        "    def insert(self, e):\n",
        "        \"\"\" assumes e is hashable\n",
        "        Increases the number times e occurs in self by 1. \"\"\"\n",
        "        try:\n",
        "          self.vals[e] += 1\n",
        "        except:\n",
        "          self.vals[e] = 1\n",
        "    def __str__(self):\n",
        "        s = \"\"\n",
        "        for i in sorted(self.vals.keys()):\n",
        "          if self.vals[i] != 0:\n",
        "            s += str(i)+\":\"+str(self.vals[i])+\"\\n\"\n",
        "        return s\n",
        "\n",
        "class ASet(Container):\n",
        "    def remove(self, e):\n",
        "        \"\"\"assumes e is hashable\n",
        "        removes e from self\"\"\"\n",
        "\n",
        "        #try method that attempts to remove e using pop\n",
        "        try:\n",
        "          self.vals.pop(e)\n",
        "\n",
        "        #catches exceptions and prints message\n",
        "        except:\n",
        "          print('This value is not in the container keys')\n",
        "\n",
        "\n",
        "\n",
        "\n",
        "    def is_in(self, e):\n",
        "        \"\"\"assumes e is hashable\n",
        "        returns True if e has been inserted in self and\n",
        "        not subsequently removed, and False otherwise.\"\"\"\n",
        "\n",
        "        #if statement to check whether e exists as a key in vals\n",
        "        if e in self.vals.keys():\n",
        "          return True\n",
        "\n",
        "        #else statement if e does not exist in vals\n",
        "        else:\n",
        "          return False\n"
      ],
      "metadata": {
        "id": "OFTAn9WLRtHS"
      },
      "execution_count": 27,
      "outputs": []
    },
    {
      "cell_type": "code",
      "source": [
        "#Tester Code for Problem 5\n",
        "d1 = ASet()\n",
        "d1.insert(4)\n",
        "d1.insert(4)\n",
        "d1.remove(2)\n",
        "print(d1)\n",
        "d1.remove(4)\n",
        "print(d1)"
      ],
      "metadata": {
        "colab": {
          "base_uri": "https://localhost:8080/"
        },
        "id": "xlKchoRfTFeR",
        "outputId": "9f733995-f409-4068-f9c9-e8455b1fcb41"
      },
      "execution_count": 30,
      "outputs": [
        {
          "output_type": "stream",
          "name": "stdout",
          "text": [
            "This value is not in the container keys\n",
            "4:2\n",
            "\n",
            "\n"
          ]
        }
      ]
    },
    {
      "cell_type": "code",
      "source": [
        "#Tester Code for Problem 5\n",
        "d1 = ASet()\n",
        "d1.insert(4)\n",
        "print(d1.is_in(4))\n",
        "d1.insert(5)\n",
        "print(d1.is_in(5))\n",
        "d1.remove(5)\n",
        "print(d1.is_in(5))"
      ],
      "metadata": {
        "colab": {
          "base_uri": "https://localhost:8080/"
        },
        "id": "dzWWQYcdTUi0",
        "outputId": "eb5736f4-3505-49f4-aa6e-2bd4e7b09ad1"
      },
      "execution_count": 31,
      "outputs": [
        {
          "output_type": "stream",
          "name": "stdout",
          "text": [
            "True\n",
            "True\n",
            "False\n"
          ]
        }
      ]
    }
  ]
}